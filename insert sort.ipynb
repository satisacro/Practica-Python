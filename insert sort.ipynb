{
 "cells": [
  {
   "cell_type": "markdown",
   "metadata": {},
   "source": [
    "# Insert Sort"
   ]
  },
  {
   "cell_type": "code",
   "execution_count": 1,
   "metadata": {
    "collapsed": false
   },
   "outputs": [],
   "source": [
    " __author__ = 'Raul Ricardo Orcasitas'\n",
    "import random\n",
    "import time\n",
    "import gc"
   ]
  },
  {
   "cell_type": "markdown",
   "metadata": {},
   "source": [
    "Definición de los métodos para insert sort y merge sort"
   ]
  },
  {
   "cell_type": "code",
   "execution_count": 2,
   "metadata": {
    "collapsed": false
   },
   "outputs": [],
   "source": [
    "def insert_sort(lista):\n",
    "    for indice in xrange(1,len(lista)):\n",
    "        item = lista[indice]\n",
    "        pos = indice\n",
    "        while pos > 0 and lista[pos-1] > item:\n",
    "            lista[pos] = lista[pos-1]\n",
    "            pos -= 1\n",
    "        lista[pos] = item\n",
    "\n",
    "def merge_sort(lista):\n",
    "    lista = mergesort_helper(lista)\n",
    "\n",
    "def mergesort_helper(lista):\n",
    "    if len(lista) <= 1:\n",
    "        return lista\n",
    "    else:\n",
    "        midp = len(lista) // 2\n",
    "        left = mergesort_helper(lista[:midp])\n",
    "        right = mergesort_helper(lista[midp:])\n",
    "        return merge_join(left,right)\n",
    "    \n",
    "def merge_join(left, right):\n",
    "    sorted_list = []\n",
    "    while left or right:\n",
    "        if left and right:\n",
    "            if left[0] < right[0]:\n",
    "                sorted_list.append(left.pop(0))\n",
    "            else:\n",
    "                sorted_list.append(right.pop(0))\n",
    "        else:\n",
    "            if left:\n",
    "                sorted_list.extend(left)\n",
    "                break\n",
    "            if right:\n",
    "                sorted_list.extend(right)\n",
    "                break\n",
    "    return sorted_list\n"
   ]
  },
  {
   "cell_type": "markdown",
   "metadata": {},
   "source": [
    "Función para calcular el tiempo de cada ordenamiento."
   ]
  },
  {
   "cell_type": "code",
   "execution_count": 3,
   "metadata": {
    "collapsed": true
   },
   "outputs": [],
   "source": [
    "def calculate_time(sort_function, array):\n",
    "    tiempo_total = 0\n",
    "    gc.collect()\n",
    "    for i in xrange(25):\n",
    "        array_copy = list(array)\n",
    "        t1 = time.clock()\n",
    "        sort_function(array_copy)\n",
    "        t2 = time.clock()\n",
    "        tiempo_total += t2 - t1\n",
    "    return tiempo_total/25"
   ]
  },
  {
   "cell_type": "markdown",
   "metadata": {
    "collapsed": true
   },
   "source": [
    "Prueba"
   ]
  },
  {
   "cell_type": "code",
   "execution_count": 5,
   "metadata": {
    "collapsed": false
   },
   "outputs": [
    {
     "name": "stdout",
     "output_type": "stream",
     "text": [
      " n = 4\n",
      "5.90704837443e-06 9.73864731947e-06 7.93688353028e-06\n",
      "\n",
      "n = 5\n",
      "6.63687674503e-06 1.34105963097e-05 7.16144088645e-05\n",
      "\n",
      "n = 6\n",
      "9.73636660645e-05 7.90723425266e-05 2.08001085618e-05\n",
      "\n"
     ]
    }
   ],
   "source": [
    "mejores = []\n",
    "peores = []\n",
    "promedios = []\n",
    "\n",
    "# Para n = 4\n",
    "print 'n = 4'\n",
    "lis1 = range(4)         #mejor\n",
    "lis2 = list(lis1[::-1]) #peor\n",
    "lis3 = list(lis1)\n",
    "random.shuffle(lis3)    #promedio\n",
    "\n",
    "#print 'Insert'\n",
    "mejores.append(calculate_time(insert_sort, lis1))\n",
    "peores.append(calculate_time(insert_sort, lis2))\n",
    "promedios.append(calculate_time(insert_sort, lis3))\n",
    "print mejores[0],peores[0],promedios[0]\n",
    "print\n",
    "\n",
    "# Para n = 5\n",
    "print 'n = 5'\n",
    "lis1 = range(5)         #mejor\n",
    "lis2 = list(lis1[::-1]) #peor\n",
    "lis3 = list(lis1)\n",
    "random.shuffle(lis3)    #promedio\n",
    "\n",
    "mejores.append(calculate_time(insert_sort, lis1))\n",
    "peores.append(calculate_time(insert_sort, lis2))\n",
    "promedios.append(calculate_time(insert_sort, lis3))\n",
    "print mejores[1],peores[1],promedios[1]\n",
    "print\n",
    "\n",
    "# Para n = 6\n",
    "print 'n = 6'\n",
    "lis1 = range(6)         #mejor\n",
    "lis2 = list(lis1[::-1]) #peor\n",
    "lis3 = list(lis1)\n",
    "random.shuffle(lis3)    #promedio\n",
    "\n",
    "mejores.append(calculate_time(insert_sort, lis1))\n",
    "peores.append(calculate_time(insert_sort, lis2))\n",
    "promedios.append(calculate_time(insert_sort, lis3))\n",
    "print mejores[2],peores[2],promedios[2]\n",
    "print\n"
   ]
  },
  {
   "cell_type": "code",
   "execution_count": 6,
   "metadata": {
    "collapsed": false
   },
   "outputs": [
    {
     "data": {
      "text/plain": [
       "<matplotlib.legend.Legend at 0x3e6a208>"
      ]
     },
     "execution_count": 6,
     "metadata": {},
     "output_type": "execute_result"
    },
    {
     "data": {
      "image/png": "[encoded data removed]",
      "text/plain": [
       "<matplotlib.figure.Figure at 0x752f7f0>"
      ]
     },
     "metadata": {},
     "output_type": "display_data"
    }
   ],
   "source": [
    "%matplotlib inline\n",
    "import matplotlib.pyplot as plt\n",
    "import numpy as np\n",
    "from scipy.interpolate import interp1d\n",
    "import math\n",
    "\n",
    "x = np.linspace(4,6,3,endpoint=True)\n",
    "x2 = np.linspace(4,6,10,endpoint=True)\n",
    "\n",
    "f1 = interp1d(x,mejores,kind='quadratic')\n",
    "f2 = interp1d(x,peores,kind='quadratic')\n",
    "f3 = interp1d(x,promedios,kind='quadratic')\n",
    "\n",
    "#plt.plot(x,mejores,x,peores,x,promedios)\n",
    "plt.plot(x2,f1(x2),x2,f2(x2),x2,f3(x2))\n",
    "plt.legend(['Mejor','Peor','Promedio'],loc='best')"
   ]
  },
  {
   "cell_type": "code",
   "execution_count": 9,
   "metadata": {
    "collapsed": true
   },
   "outputs": [],
   "source": [
    "def exper_analysis(sizes):\n",
    "    results_merge = []\n",
    "    results_insertion = []\n",
    "    for i in sizes:\n",
    "        list1 = range(i)\n",
    "        random.shuffle(list1)\n",
    "        results_merge.append(calculate_time(merge_sort, list1))\n",
    "        results_insertion.append(calculate_time(insert_sort, list1))        \n",
    "    return (results_merge, results_insertion)\n"
   ]
  },
  {
   "cell_type": "code",
   "execution_count": 10,
   "metadata": {
    "collapsed": false
   },
   "outputs": [
    {
     "data": {
      "text/plain": [
       "<matplotlib.legend.Legend at 0x3fab940>"
      ]
     },
     "execution_count": 10,
     "metadata": {},
     "output_type": "execute_result"
    },
    {
     "data": {
      "image/png": "[encoded data removed]",
      "text/plain": [
       "<matplotlib.figure.Figure at 0x434ca58>"
      ]
     },
     "metadata": {},
     "output_type": "display_data"
    }
   ],
   "source": [
    "import numpy as np\n",
    "import pylab as pl\n",
    "%matplotlib inline\n",
    "pl.clf()\n",
    "sizes = np.arange(1,100,1)\n",
    "(y1,y2) = np.array(exper_analysis(sizes))\n",
    "pl.plot(sizes, y1, 'k.', label = 'Merge sort')\n",
    "pl.plot(sizes, y2, 'bx', label = 'Insertion sort')\n",
    "pl.xlabel('Tamano del arreglo')\n",
    "pl.ylabel('Segundos')\n",
    "pl.legend(loc = 'upper left')"
   ]
  },
  {
   "cell_type": "code",
   "execution_count": null,
   "metadata": {
    "collapsed": true
   },
   "outputs": [],
   "source": []
  }
 ],
 "metadata": {
  "kernelspec": {
   "display_name": "Python 2",
   "language": "python",
   "name": "python2"
  },
  "language_info": {
   "codemirror_mode": {
    "name": "ipython",
    "version": 2
   },
   "file_extension": ".py",
   "mimetype": "text/x-python",
   "name": "python",
   "nbconvert_exporter": "python",
   "pygments_lexer": "ipython2",
   "version": "2.7.11"
  }
 },
 "nbformat": 4,
 "nbformat_minor": 0
}
